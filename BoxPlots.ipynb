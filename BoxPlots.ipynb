{
 "cells": [
  {
   "cell_type": "markdown",
   "metadata": {},
   "source": [
    "# Fundamentals of Data Analysis 2018\n",
    "\n",
    "by Simona Vasiliauskaite G00263352\n",
    "\n",
    "## Project - Boxplot\n",
    "\n",
    "**Tasks:**\n",
    "\n",
    "* Summarise the history of the box plot and situations in which it used.\n",
    "* Explain any relevant terminology such as the terms quartile and percentile\n",
    "* Demonstrate the use of the box plot using data of your choosing.\n",
    "* Compare the box plot to alternatives."
   ]
  },
  {
   "cell_type": "markdown",
   "metadata": {},
   "source": [
    "## 1. About Boxplot \n",
    "\n",
    "**A boxplot** is a graph that gives a good indication of how the values in the data are spread out. John Tukey was an American mathematician who introduced the box plot in his 1977 book, \"Exploratory Data Analysis\". So it's a summary of five components which include “minimum”, first quartile (Q1), median, third quartile (Q3), and “maximum”. The box is drawn from first quartile to the third quartile. A vertical line that goes through the box is the median and the whiskers go from each quartile to the minimum or maximum.\n",
    "\n",
    "Tukey developed many important tools of modern statistics and introduced concepts that were central to the creation of today's telecommunications technologies. Tukey was known for his penchant for coining terms that reflected new ideas and techniques in the sciences and is credited with introducing the computer science terms \"bit\"."
   ]
  },
  {
   "cell_type": "markdown",
   "metadata": {},
   "source": [
    "### 1.1 Where is it used?\n",
    "\n",
    "Boxplots are useful for indicating whether a distribution is skewed and whether there are potential unusual observations (outliers) in the data set. These plots are also very useful when large numbers of observations are involved and when two or more data sets are being compared from different categories for easier, more effective decision making. The centre, spread and overall range are immediately apparent.\n",
    "\n",
    "It is often used in explanatory data analysis. \n",
    "Examples such as data from before and after a process change or data from duplicate machines manufacturin the same products. (3)"
   ]
  },
  {
   "cell_type": "markdown",
   "metadata": {},
   "source": [
    "# 2. Terminology\n",
    "\n",
    "**Median**\n",
    "The median marks the mid-point of the data and is shown by the line that divides the box into two parts. Half the scores are greater than or equal to this value and half are less.\n",
    "\n",
    "Inter-quartile range\n",
    "The middle “box” represents the middle 50% of scores for the group. The range of scores from lower to upper quartile is referred to as the inter-quartile range. The middle 50% of scores fall within the inter-quartile range.\n",
    "\n",
    "**Q3 Quartile**\n",
    "Seventy-five percent of the scores fall below the upper (Q3) quartile.\n",
    "\n",
    "**Q1 Quartile**\n",
    "Twenty-five percent of scores fall below the lower (Q1) quartile.\n",
    "\n",
    "**Whiskers**\n",
    "The upper and lower whiskers represent scores outside the middle 50%. Whiskers often (but not always) stretch over a wider range of scores than the middle quartile groups. (2)"
   ]
  },
  {
   "cell_type": "markdown",
   "metadata": {},
   "source": [
    "# 3. Boxplot Examples"
   ]
  },
  {
   "cell_type": "code",
   "execution_count": 1,
   "metadata": {
    "collapsed": true,
    "scrolled": false
   },
   "outputs": [],
   "source": [
    "# Import all libraries for data analysis\n",
    "import numpy as np\n",
    "import matplotlib as plt\n",
    "import pandas as pd\n",
    "import seaborn as sns\n",
    "%matplotlib inline"
   ]
  },
  {
   "cell_type": "code",
   "execution_count": 2,
   "metadata": {
    "collapsed": true
   },
   "outputs": [
    {
     "name": "stdout",
     "output_type": "stream",
     "text": [
      "    November Sales\n",
      "0                4\n",
      "1                5\n",
      "2                4\n",
      "3                5\n",
      "4                6\n",
      "5                7\n",
      "6                2\n",
      "7                1\n",
      "8                2\n",
      "9                5\n",
      "10               7\n",
      "11               8\n",
      "12               9\n",
      "13              11\n",
      "14              12\n",
      "15              13\n",
      "16              14\n",
      "17               3\n",
      "18               2\n",
      "19               1\n",
      "20               0\n",
      "21               5\n",
      "22               7\n",
      "23               8\n",
      "24               9\n",
      "25              10\n",
      "26              12\n",
      "27               3\n",
      "28               5\n",
      "29               6\n"
     ]
    }
   ],
   "source": [
    "# Made up an array of data\n",
    "# This data set represents November sales of an Online Shop\n",
    "# Convert this data into a dataframe\n",
    "# print dataframe\n",
    "d = np.array([4,5,4,5,6,7,2,1,2,5,7,8,9,11,12,13,14,3,2,1,0,5,7,8,9,10,12,3,5,6])\n",
    "df = pd.DataFrame(d)\n",
    "df.columns = [\"November Sales\"] # Give this data set a name\n",
    "print(df)"
   ]
  },
  {
   "cell_type": "code",
   "execution_count": 3,
   "metadata": {
    "collapsed": true
   },
   "outputs": [
    {
     "data": {
      "text/html": [
       "<div>\n",
       "<style>\n",
       "    .dataframe thead tr:only-child th {\n",
       "        text-align: right;\n",
       "    }\n",
       "\n",
       "    .dataframe thead th {\n",
       "        text-align: left;\n",
       "    }\n",
       "\n",
       "    .dataframe tbody tr th {\n",
       "        vertical-align: top;\n",
       "    }\n",
       "</style>\n",
       "<table border=\"1\" class=\"dataframe\">\n",
       "  <thead>\n",
       "    <tr style=\"text-align: right;\">\n",
       "      <th></th>\n",
       "      <th>November Sales</th>\n",
       "    </tr>\n",
       "  </thead>\n",
       "  <tbody>\n",
       "    <tr>\n",
       "      <th>16</th>\n",
       "      <td>14</td>\n",
       "    </tr>\n",
       "    <tr>\n",
       "      <th>15</th>\n",
       "      <td>13</td>\n",
       "    </tr>\n",
       "    <tr>\n",
       "      <th>26</th>\n",
       "      <td>12</td>\n",
       "    </tr>\n",
       "    <tr>\n",
       "      <th>14</th>\n",
       "      <td>12</td>\n",
       "    </tr>\n",
       "    <tr>\n",
       "      <th>13</th>\n",
       "      <td>11</td>\n",
       "    </tr>\n",
       "    <tr>\n",
       "      <th>25</th>\n",
       "      <td>10</td>\n",
       "    </tr>\n",
       "    <tr>\n",
       "      <th>24</th>\n",
       "      <td>9</td>\n",
       "    </tr>\n",
       "    <tr>\n",
       "      <th>12</th>\n",
       "      <td>9</td>\n",
       "    </tr>\n",
       "    <tr>\n",
       "      <th>23</th>\n",
       "      <td>8</td>\n",
       "    </tr>\n",
       "    <tr>\n",
       "      <th>11</th>\n",
       "      <td>8</td>\n",
       "    </tr>\n",
       "    <tr>\n",
       "      <th>5</th>\n",
       "      <td>7</td>\n",
       "    </tr>\n",
       "    <tr>\n",
       "      <th>22</th>\n",
       "      <td>7</td>\n",
       "    </tr>\n",
       "    <tr>\n",
       "      <th>10</th>\n",
       "      <td>7</td>\n",
       "    </tr>\n",
       "    <tr>\n",
       "      <th>29</th>\n",
       "      <td>6</td>\n",
       "    </tr>\n",
       "    <tr>\n",
       "      <th>4</th>\n",
       "      <td>6</td>\n",
       "    </tr>\n",
       "    <tr>\n",
       "      <th>9</th>\n",
       "      <td>5</td>\n",
       "    </tr>\n",
       "    <tr>\n",
       "      <th>1</th>\n",
       "      <td>5</td>\n",
       "    </tr>\n",
       "    <tr>\n",
       "      <th>21</th>\n",
       "      <td>5</td>\n",
       "    </tr>\n",
       "    <tr>\n",
       "      <th>3</th>\n",
       "      <td>5</td>\n",
       "    </tr>\n",
       "    <tr>\n",
       "      <th>28</th>\n",
       "      <td>5</td>\n",
       "    </tr>\n",
       "    <tr>\n",
       "      <th>2</th>\n",
       "      <td>4</td>\n",
       "    </tr>\n",
       "    <tr>\n",
       "      <th>0</th>\n",
       "      <td>4</td>\n",
       "    </tr>\n",
       "    <tr>\n",
       "      <th>17</th>\n",
       "      <td>3</td>\n",
       "    </tr>\n",
       "    <tr>\n",
       "      <th>27</th>\n",
       "      <td>3</td>\n",
       "    </tr>\n",
       "    <tr>\n",
       "      <th>8</th>\n",
       "      <td>2</td>\n",
       "    </tr>\n",
       "    <tr>\n",
       "      <th>18</th>\n",
       "      <td>2</td>\n",
       "    </tr>\n",
       "    <tr>\n",
       "      <th>6</th>\n",
       "      <td>2</td>\n",
       "    </tr>\n",
       "    <tr>\n",
       "      <th>19</th>\n",
       "      <td>1</td>\n",
       "    </tr>\n",
       "    <tr>\n",
       "      <th>7</th>\n",
       "      <td>1</td>\n",
       "    </tr>\n",
       "    <tr>\n",
       "      <th>20</th>\n",
       "      <td>0</td>\n",
       "    </tr>\n",
       "  </tbody>\n",
       "</table>\n",
       "</div>"
      ],
      "text/plain": [
       "    November Sales\n",
       "16              14\n",
       "15              13\n",
       "26              12\n",
       "14              12\n",
       "13              11\n",
       "25              10\n",
       "24               9\n",
       "12               9\n",
       "23               8\n",
       "11               8\n",
       "5                7\n",
       "22               7\n",
       "10               7\n",
       "29               6\n",
       "4                6\n",
       "9                5\n",
       "1                5\n",
       "21               5\n",
       "3                5\n",
       "28               5\n",
       "2                4\n",
       "0                4\n",
       "17               3\n",
       "27               3\n",
       "8                2\n",
       "18               2\n",
       "6                2\n",
       "19               1\n",
       "7                1\n",
       "20               0"
      ]
     },
     "execution_count": 3,
     "metadata": {},
     "output_type": "execute_result"
    }
   ],
   "source": [
    "# Have a quick gance of what the values look like in ascending order\n",
    "# Since the data set is relativaly small\n",
    "df.sort_values(by='November Sales', ascending=0)"
   ]
  },
  {
   "cell_type": "code",
   "execution_count": 4,
   "metadata": {},
   "outputs": [
    {
     "data": {
      "text/html": [
       "<div>\n",
       "<style>\n",
       "    .dataframe thead tr:only-child th {\n",
       "        text-align: right;\n",
       "    }\n",
       "\n",
       "    .dataframe thead th {\n",
       "        text-align: left;\n",
       "    }\n",
       "\n",
       "    .dataframe tbody tr th {\n",
       "        vertical-align: top;\n",
       "    }\n",
       "</style>\n",
       "<table border=\"1\" class=\"dataframe\">\n",
       "  <thead>\n",
       "    <tr style=\"text-align: right;\">\n",
       "      <th></th>\n",
       "      <th>November Sales</th>\n",
       "    </tr>\n",
       "  </thead>\n",
       "  <tbody>\n",
       "    <tr>\n",
       "      <th>count</th>\n",
       "      <td>30.000000</td>\n",
       "    </tr>\n",
       "    <tr>\n",
       "      <th>mean</th>\n",
       "      <td>6.200000</td>\n",
       "    </tr>\n",
       "    <tr>\n",
       "      <th>std</th>\n",
       "      <td>3.800181</td>\n",
       "    </tr>\n",
       "    <tr>\n",
       "      <th>min</th>\n",
       "      <td>0.000000</td>\n",
       "    </tr>\n",
       "    <tr>\n",
       "      <th>25%</th>\n",
       "      <td>3.250000</td>\n",
       "    </tr>\n",
       "    <tr>\n",
       "      <th>50%</th>\n",
       "      <td>5.500000</td>\n",
       "    </tr>\n",
       "    <tr>\n",
       "      <th>75%</th>\n",
       "      <td>8.750000</td>\n",
       "    </tr>\n",
       "    <tr>\n",
       "      <th>max</th>\n",
       "      <td>14.000000</td>\n",
       "    </tr>\n",
       "  </tbody>\n",
       "</table>\n",
       "</div>"
      ],
      "text/plain": [
       "       November Sales\n",
       "count       30.000000\n",
       "mean         6.200000\n",
       "std          3.800181\n",
       "min          0.000000\n",
       "25%          3.250000\n",
       "50%          5.500000\n",
       "75%          8.750000\n",
       "max         14.000000"
      ]
     },
     "execution_count": 4,
     "metadata": {},
     "output_type": "execute_result"
    }
   ],
   "source": [
    "# Print summary statistics \n",
    "df.describe()"
   ]
  },
  {
   "cell_type": "markdown",
   "metadata": {},
   "source": [
    "I will round these off to their nearest whole number so the median is 6, 1st quartile 3, 2nd quartile 9, maximum is 14, minimum is 0."
   ]
  },
  {
   "cell_type": "code",
   "execution_count": 5,
   "metadata": {},
   "outputs": [
    {
     "data": {
      "text/plain": [
       "<matplotlib.axes._subplots.AxesSubplot at 0x190a6526f28>"
      ]
     },
     "execution_count": 5,
     "metadata": {},
     "output_type": "execute_result"
    },
    {
     "data": {
      "image/png": "[encoded data removed]",
      "text/plain": [
       "<matplotlib.figure.Figure at 0x190a6526630>"
      ]
     },
     "metadata": {},
     "output_type": "display_data"
    }
   ],
   "source": [
    "df.plot.box(grid='True')"
   ]
  },
  {
   "cell_type": "code",
   "execution_count": null,
   "metadata": {
    "collapsed": true
   },
   "outputs": [],
   "source": []
  },
  {
   "cell_type": "markdown",
   "metadata": {},
   "source": [
    "## 4. How Boxplots compare to other plots?"
   ]
  },
  {
   "cell_type": "markdown",
   "metadata": {},
   "source": [
    "------------------------------"
   ]
  },
  {
   "cell_type": "markdown",
   "metadata": {},
   "source": [
    "## References"
   ]
  },
  {
   "cell_type": "markdown",
   "metadata": {
    "collapsed": true
   },
   "source": [
    "1. https://towardsdatascience.com/understanding-boxplots-5e2df7bcbd51\n",
    "2. https://www.wellbeingatschool.org.nz/information-sheet/understanding-and-interpreting-box-plots\n",
    "3. https://www150.statcan.gc.ca/n1/edu/power-pouvoir/ch12/5214889-eng.htm"
   ]
  },
  {
   "cell_type": "code",
   "execution_count": null,
   "metadata": {
    "collapsed": true
   },
   "outputs": [],
   "source": []
  }
 ],
 "metadata": {
  "kernelspec": {
   "display_name": "Python 3",
   "language": "python",
   "name": "python3"
  },
  "language_info": {
   "codemirror_mode": {
    "name": "ipython",
    "version": 3
   },
   "file_extension": ".py",
   "mimetype": "text/x-python",
   "name": "python",
   "nbconvert_exporter": "python",
   "pygments_lexer": "ipython3",
   "version": "3.6.6"
  }
 },
 "nbformat": 4,
 "nbformat_minor": 2
}
