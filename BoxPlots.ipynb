{
 "cells": [
  {
   "cell_type": "markdown",
   "metadata": {},
   "source": [
    "![GMIT LOGO](https://www.logolynx.com/images/logolynx/36/36c5ba49dd8ef0a12c11681df3d77548.jpeg)\n",
    "\n",
    "# Fundamentals of Data Analysis 2018\n",
    "\n",
    "by Simona Vasiliauskaite G00263352\n",
    "\n",
    "## Project - Boxplot\n",
    "\n",
    "**Tasks:**\n",
    "\n",
    "* Summarise the history of the box plot and situations in which it used.\n",
    "* Explain any relevant terminology such as the terms quartile and percentile\n",
    "* Demonstrate the use of the box plot using data of your choosing.\n",
    "* Compare the box plot to alternatives."
   ]
  },
  {
   "cell_type": "markdown",
   "metadata": {},
   "source": [
    "## 1. About Boxplots\n",
    "\n",
    "**A boxplot** is a graph that gives a good indication of how the values in the data are spread out. John Tukey was an American mathematician who introduced the box plot in his 1977 book, \"Exploratory Data Analysis\".\n",
    "\n",
    "It's a summary of five components which include “minimum”, first quartile (Q1), median, third quartile (Q3), and “maximum”. The box is drawn from first quartile to the third quartile. A vertical line that goes through the box is the median and the whiskers go from each quartile to the minimum or maximum.\n",
    "\n",
    "Tukey developed many important tools of modern statistics and introduced concepts that were central to the creation of today's telecommunications technologies. Tukey was known for his penchant for coining terms that reflected new ideas and techniques in the sciences and is credited with introducing the computer science terms \"bit\".\n",
    "\n",
    "Some important points to note:\n",
    "* The data sets must be measuring the same value, with the same units.\n",
    "* Box plots should not be constructed for very small data sets. A data set with only three points in it, for example, shouldn’t logically be divided into four quartiles. In these cases, graph the data as a scatterplot, without any boxes.\n",
    "* Usually, different trials should contain the same total number of data points. If one set is much larger than another, for example, it has a larger chance of containing random outliers."
   ]
  },
  {
   "cell_type": "markdown",
   "metadata": {},
   "source": [
    "### 1.1 Where is it used?\n",
    "\n",
    "Boxplots are useful for indicating whether a distribution is skewed and whether there are potential unusual observations (outliers) in the data set. It's main function is to check for key values, such as: the average, median 25th percentile ett. - the centre, spread and overall range are immediately apparent.\n",
    "\n",
    "These plots are also very useful when large numbers of observations are involved and when two or more data sets are being compared from different categories for easier, more effective decision making. They have the advantage of taking up less space. You can tell if data is symmetrical and how tighly it is grouped. \n",
    "\n",
    "![Data comparison](https://datavizcatalogue.com/methods/images/top_images/box_plot.png)\n",
    "\n",
    "It is often used in explanatory data analysis. Examples such as data from before and after a process change or data from duplicate machines manufacturing the same products. (3)"
   ]
  },
  {
   "cell_type": "markdown",
   "metadata": {},
   "source": [
    "## 1.2 Different Types\n",
    "\n",
    "After Tukey introduced the Box Plot, there have been a number variations that have been developed:\n",
    "\n",
    "**Variable Width Box Plots** use the width of the box to represent the size of the data within each group. So a group with a larger total in the data will have a larger width. **Notched Box Plots** have a narrowing of the box around the median. This is useful way to compare the differences between median values as the “notches” act as a visual guide. **Violin Plots** are a pair of joined kernel density plots and **Vase Plots and Bean Plots** are another couple variations of a Box Plot. (5)\n",
    "\n",
    "Variable width box plots and notched box plots are the most commonly used box plots.\n",
    "\n",
    "![Types of Boxplots](http://visualoop.com/media/2015/04/box_plot_variations.png)"
   ]
  },
  {
   "cell_type": "markdown",
   "metadata": {},
   "source": [
    "# 2. Terminology\n",
    "\n",
    "**Median**\n",
    "The median marks the mid-point of the data and is shown by the line that divides the box into two parts. Half the scores are greater than or equal to this value and half are less.\n",
    "\n",
    "**Inter-quartile range**\n",
    "The range of scores from lower to upper quartile is referred to as the inter-quartile range. \n",
    "\n",
    "**Q3 Quartile**\n",
    "Seventy-five percent of the scores fall below the upper (Q3) quartile.\n",
    "\n",
    "**Q1 Quartile**\n",
    "Twenty-five percent of scores fall below the lower (Q1) quartile.\n",
    "\n",
    "**Whiskers**\n",
    "The upper and lower whiskers represent scores outside the middle 50%. Whiskers often (but not always) stretch over a wider range of scores than the middle quartile groups. (2)\n",
    "\n",
    "**Extreme Values**\n",
    "The smallest and largest values in a data set.\n",
    "\n",
    "**Outlier/Single Point**\n",
    "Outliers are values that are much bigger or smaller than the rest of the data. These are represented by a dot at either end of the plot.\n",
    "\n",
    "In order to be an outlier, the data value must be:\n",
    "Larger than Q3 by at least 1.5 times the interquartile range (IQR), or\n",
    "smaller than Q1 by at least 1.5 times the IQR."
   ]
  },
  {
   "cell_type": "markdown",
   "metadata": {},
   "source": [
    "![Boxplot](http://visualoop.com/media/2015/04/box_plot_anatomy.png)"
   ]
  },
  {
   "cell_type": "markdown",
   "metadata": {},
   "source": [
    "# 3. Boxplot Examples"
   ]
  },
  {
   "cell_type": "code",
   "execution_count": 1,
   "metadata": {
    "collapsed": true,
    "scrolled": false
   },
   "outputs": [],
   "source": [
    "# Import all libraries\n",
    "import numpy as np\n",
    "import matplotlib.pyplot as plt\n",
    "import pandas as pd\n",
    "import seaborn as sns\n",
    "%matplotlib inline"
   ]
  },
  {
   "cell_type": "code",
   "execution_count": 2,
   "metadata": {},
   "outputs": [
    {
     "data": {
      "image/png": "[encoded data removed]",
      "text/plain": [
       "<matplotlib.figure.Figure at 0x1bcadf3cb00>"
      ]
     },
     "metadata": {},
     "output_type": "display_data"
    }
   ],
   "source": [
    "# In this example I faked some data\n",
    "# This data set represents total sales made in Euro each year\n",
    "# Each value represents amount in Euros per month\n",
    "Sales2018 = [822,736,421,450,647,632,725,748,721,585,978,55]\n",
    "Sales2017 =[622,511,391,225,236,232,196,495,333,290,495,532]\n",
    "Sales2016 =[213,189,112,178,272,189,325,169,268,186,119,249]\n",
    "Sales2015 =[110,112,130,216,181,161,222,211,210,180,229,172]\n",
    " \n",
    "box_plot_data=[Sales2018,Sales2017,Sales2016,Sales2015]\n",
    "box=plt.boxplot(box_plot_data,vert=0,patch_artist=True,labels=['Sales of 2018','Sales of 2017','Sales of 2016','Sales of 2015'],\n",
    "            )\n",
    "colors = ['cyan', 'blue', 'green', 'yellow'] # Choose colours for each boxplot\n",
    "for patch, color in zip(box['boxes'], colors):\n",
    "    patch.set_facecolor(color)\n",
    "plt.title(\"Boxplot of Sales over 4 years\") # Add title\n",
    "plt.xlabel('Sales') # Add label for x axis\n",
    "plt.ylabel('Year') #Add label for y axis\n",
    "plt.show()"
   ]
  },
  {
   "cell_type": "markdown",
   "metadata": {},
   "source": [
    "Looking at the boxplot above I will investigate it's shape, variability, and the median. I will also look for skewed data or for any outliers. \n",
    "\n",
    "From the box plot above it is clear that the sales volume was the highest in 2018 with median value being arond 750. Minimum amount of sales made that year was above 400 and maximum nearly reaching a 1000. There is one outlier positioned at the very left of the boxplot which I would investigate, what month generated this little sales and why.\n",
    "\n",
    "Sales in 2015 and 2016 look quite similar with median value being 200. The minimum sales value done in those years per month was around a 100. Sales in 2017 looks to have doubled from previous years with median being over 350 and minimum sales made per month around 200. \n",
    "\n",
    "The second boxplot shows data to be skewed right and 4th boxplot appears to be skewed left."
   ]
  },
  {
   "cell_type": "markdown",
   "metadata": {},
   "source": [
    "## 4. How a Boxplot comapre to a Histogram\n",
    "\n",
    "In this section I will compare boxplot to a histogram and find out when these graphs work better.\n",
    "\n",
    "**A histogram** is a graphical representation of a frequency distribution for numeric data. It is a bar chart that is often used as the first step to determine the probability distribution of a data set or a sample. It allows to visually and quickly assess the shape of the distribution, the central tendency, the amount of variation in the data, and the presence of gaps, outliers or unusual data points. (4)\n",
    "\n",
    "Both charts effectively represent different data sets; however, in certain situations, one chart may be superior to the other in achieving the goal of identifying variances among data. The type of chart aid chosen depends on the type of data collected, rough analysis of data trends, and project goals."
   ]
  },
  {
   "cell_type": "code",
   "execution_count": 3,
   "metadata": {},
   "outputs": [
    {
     "data": {
      "image/png": "[encoded data removed]",
      "text/plain": [
       "<matplotlib.figure.Figure at 0x1bcae192550>"
      ]
     },
     "metadata": {},
     "output_type": "display_data"
    },
    {
     "data": {
      "image/png": "[encoded data removed]",
      "text/plain": [
       "<matplotlib.figure.Figure at 0x1bcae34a518>"
      ]
     },
     "metadata": {},
     "output_type": "display_data"
    },
    {
     "data": {
      "image/png": "[encoded data removed]",
      "text/plain": [
       "<matplotlib.figure.Figure at 0x1bcae407240>"
      ]
     },
     "metadata": {},
     "output_type": "display_data"
    },
    {
     "data": {
      "image/png": "[encoded data removed]",
      "text/plain": [
       "<matplotlib.figure.Figure at 0x1bcae361cf8>"
      ]
     },
     "metadata": {},
     "output_type": "display_data"
    }
   ],
   "source": [
    "# Hist only\n",
    "\n",
    "Sales2018 = [822,736,421,450,647,632,725,748,721,585,978,55]\n",
    "Sales2017 =[622,511,391,225,236,232,196,495,333,290,495,532]\n",
    "Sales2016 =[213,189,112,178,272,189,325,169,268,186,119,249]\n",
    "Sales2015 =[110,112,130,216,181,161,222,211,210,180,229,172]\n",
    "\n",
    "num_bins = 12\n",
    "n, bins, patches = plt.hist(Sales2018, num_bins, facecolor='blue', alpha=0.5, edgecolor=\"k\")\n",
    "plt.xlabel(\"Sales Value\")\n",
    "plt.ylabel(\"Frequency\")\n",
    "plt.title(\"2018 Sales\")\n",
    "plt.show()\n",
    "\n",
    "num_bins = 12\n",
    "n, bins, patches = plt.hist(Sales2017, num_bins, facecolor='blue', alpha=0.5, edgecolor=\"k\")\n",
    "plt.xlabel(\"Sales Value\")\n",
    "plt.ylabel(\"Frequency\")\n",
    "plt.title(\"2017 Sales\")\n",
    "plt.show()\n",
    "\n",
    "num_bins = 12\n",
    "n, bins, patches = plt.hist(Sales2016, num_bins, facecolor='blue', alpha=0.5, edgecolor=\"k\")\n",
    "plt.xlabel(\"Sales Value\")\n",
    "plt.ylabel(\"Frequency\")\n",
    "plt.title(\"2016 Sales\")\n",
    "plt.show()\n",
    "\n",
    "num_bins = 12\n",
    "n, bins, patches = plt.hist(Sales2015, num_bins, facecolor='blue', alpha=0.5, edgecolor=\"k\")\n",
    "plt.xlabel(\"Sales Value\")\n",
    "plt.ylabel(\"Frequency\")\n",
    "plt.title(\"2015 Sales\")\n",
    "plt.show()"
   ]
  },
  {
   "cell_type": "markdown",
   "metadata": {},
   "source": [
    "Although a boxplot can tell whether a data set is symmetric (when the median is in the center of the box), it can’t tell the shape of the symmetry the way a histogram can."
   ]
  },
  {
   "cell_type": "markdown",
   "metadata": {},
   "source": [
    "------------------------------"
   ]
  },
  {
   "cell_type": "markdown",
   "metadata": {},
   "source": [
    "## References"
   ]
  },
  {
   "cell_type": "markdown",
   "metadata": {
    "collapsed": true
   },
   "source": [
    "1. https://towardsdatascience.com/understanding-boxplots-5e2df7bcbd51\n",
    "2. https://www.wellbeingatschool.org.nz/information-sheet/understanding-and-interpreting-box-plots\n",
    "3. https://www150.statcan.gc.ca/n1/edu/power-pouvoir/ch12/5214889-eng.htm\n",
    "4. https://citoolkit.com/articles/histograms-and-boxplots/\n",
    "5. http://visualoop.com/blog/32470/a-look-at-box-plots"
   ]
  }
 ],
 "metadata": {
  "kernelspec": {
   "display_name": "Python 3",
   "language": "python",
   "name": "python3"
  },
  "language_info": {
   "codemirror_mode": {
    "name": "ipython",
    "version": 3
   },
   "file_extension": ".py",
   "mimetype": "text/x-python",
   "name": "python",
   "nbconvert_exporter": "python",
   "pygments_lexer": "ipython3",
   "version": "3.6.6"
  }
 },
 "nbformat": 4,
 "nbformat_minor": 2
}
